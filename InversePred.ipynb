{
 "cells": [
  {
   "attachments": {},
   "cell_type": "markdown",
   "metadata": {},
   "source": [
    "# InversePred (2023.04.12)\n",
    "\n",
    "已建立好的模型進行反預測\n",
    "\n",
    "  - y <- x +b\n",
    "  - x <- rev_model(y)  \n",
    "------------------------------\n",
    "\n",
    "建立反預測方法，輸入目標值，基於模型可以提供對應的應變數\n",
    "------------------------------\n",
    "(2023.04.12)\n",
    "> 先自行建好模型後，隨機生成數據，代入後得到數值，就可利用數值類似查表回推可能的變數組合。\n",
    "> 建立模擬大表格，自變數(類似之前寫的基因突變與否)，個自變數生成範圍以真實數據做為參考，因此都要手動填每個參數想要的範圍\n",
    "> 此模擬數據生成模組目前有三種是基於常態分佈抽樣而成，若為非連續值，則所有結果彼此機率相同。\n",
    "> \n",
    "  - \"g\": 基於常態分佈生成，以平均值為分布中心(第一動差)，而標準差設定為1\n",
    "  - \"s\": 基於樣本集所有的數值進行隨機抽樣，擴充數量。無法增加樣本集以外的數值，缺乏變異性。 \n",
    "  - \"int\" or \"seg\": 等差級數，能自動偵測樣本集數值的小數點後位數，並以此為單位來創建等差級數。例如: 0.1, 0.2, 0.3。 \n",
    "\n",
    "\n",
    "未來將新增\n",
    "--------------------------------\n",
    "  - 更多分布類型的偵測功能\n",
    "  - 周邊的數值密讀，周邊的數值密度，以求更貼近目標值\n",
    "  - 新增範例樣本、說明文件\n",
    "  - 上傳到CRAN平台\n",
    "\n",
    "\n",
    "Reference\n",
    "------------------------------\n",
    "- https://www.tandfonline.com/doi/abs/10.1080/03610918.2019.1601217\n",
    "\n",
    "\n"
   ]
  },
  {
   "cell_type": "code",
   "execution_count": 1,
   "metadata": {
    "vscode": {
     "languageId": "r"
    }
   },
   "outputs": [],
   "source": [
    "\n",
    "inverse_prediction <- function(model, target_value, simulated_data, return_number){\n",
    "    predicted_values <- predict(model, simulated_data)\n",
    "    simulated_data$pred_ <- predicted_values \n",
    "    ordered_<- simulated_data[order(abs(predicted_values-target_value)),]\n",
    "    final_ <- ordered_[1:return_number,]\n",
    "    close_true_value <- which.min(abs(predicted_values -target_value))\n",
    "    return(list(final_))\n",
    " }\n",
    "\n",
    "\n",
    "\n",
    "simulated_single_variable_value <- function(data, variables, size = 1000, mode=\"s\", seg = 1){\n",
    "    if(mode==\"g\"){\n",
    "        #new_data <- sapply(seq_len(nrow(data)),function(i) sample(round(rnorm(1000, data[i,variables], 1), 2),size))\n",
    "        new_data <- round(rnorm(size, mean(data[[variables]]), 1), 2)\n",
    "    }else if(mode == \"int\"){\n",
    "        new_data <- sample(seq(min(data[[variables]]), max(data[,variables]),seg),size,replace=TRUE)\n",
    "    }else if(mode == \"s\"){\n",
    "        new_data <- sample(data[[variables]], size, replace=TRUE)\n",
    "    }\n",
    "    new_data <- as.data.frame(new_data)\n",
    "    colnames(new_data ) <- variables\n",
    "    return(new_data)\n",
    "}\n",
    "\n",
    "\n",
    "\n",
    "sim_multi_vars_value <- function(data, variables, size, mode){\n",
    "    seq_ <- lapply(c(variables), function(v) 1/10^max(sapply(data[[v]], decimalplaces)))\n",
    "    new_data  <- lapply(1:length(variables), function(x) simulated_single_variable_value(data, variables[x], size , mode[x],seq_[[x]]))\n",
    "    new_data <- as.data.frame(new_data)\n",
    "    colnames(new_data ) <- variables\n",
    "    return(new_data)\n",
    " }\n",
    "\n",
    "\n",
    "decimalplaces <- function(x) {\n",
    "    if ((x %% 1) != 0) {\n",
    "        nchar(unlist(strsplit(sub('0+$', '', as.character(x)), \".\", fixed=TRUE))[[2]])\n",
    "    } else {\n",
    "        return(0)\n",
    "    }\n",
    "}\n",
    "\n"
   ]
  },
  {
   "attachments": {},
   "cell_type": "markdown",
   "metadata": {},
   "source": [
    "# 測試區"
   ]
  },
  {
   "cell_type": "code",
   "execution_count": 5,
   "metadata": {
    "vscode": {
     "languageId": "r"
    }
   },
   "outputs": [
    {
     "data": {
      "text/html": [
       "<dl>\n",
       "\t<dt>$Prediction</dt>\n",
       "\t\t<dd>6.09381007304883</dd>\n",
       "\t<dt>$`Standard Error`</dt>\n",
       "\t\t<dd>1.76727833039577</dd>\n",
       "\t<dt>$Confidence</dt>\n",
       "\t\t<dd>4.90675126994947</dd>\n",
       "\t<dt>$`Confidence Limits`</dt>\n",
       "\t\t<dd><style>\n",
       ".list-inline {list-style: none; margin:0; padding: 0}\n",
       ".list-inline>li {display: inline-block}\n",
       ".list-inline>li:not(:last-child)::after {content: \"\\00b7\"; padding: 0 .5ex}\n",
       "</style>\n",
       "<ol class=list-inline><li>1.18705880309936</li><li>11.0005613429983</li></ol>\n",
       "</dd>\n",
       "</dl>\n"
      ],
      "text/latex": [
       "\\begin{description}\n",
       "\\item[\\$Prediction] 6.09381007304883\n",
       "\\item[\\$`Standard Error`] 1.76727833039577\n",
       "\\item[\\$Confidence] 4.90675126994947\n",
       "\\item[\\$`Confidence Limits`] \\begin{enumerate*}\n",
       "\\item 1.18705880309936\n",
       "\\item 11.0005613429983\n",
       "\\end{enumerate*}\n",
       "\n",
       "\\end{description}\n"
      ],
      "text/markdown": [
       "$Prediction\n",
       ":   6.09381007304883\n",
       "$`Standard Error`\n",
       ":   1.76727833039577\n",
       "$Confidence\n",
       ":   4.90675126994947\n",
       "$`Confidence Limits`\n",
       ":   1. 1.18705880309936\n",
       "2. 11.0005613429983\n",
       "\n",
       "\n",
       "\n",
       "\n",
       "\n"
      ],
      "text/plain": [
       "$Prediction\n",
       "[1] 6.09381\n",
       "\n",
       "$`Standard Error`\n",
       "[1] 1.767278\n",
       "\n",
       "$Confidence\n",
       "[1] 4.906751\n",
       "\n",
       "$`Confidence Limits`\n",
       "[1]  1.187059 11.000561\n"
      ]
     },
     "metadata": {},
     "output_type": "display_data"
    }
   ],
   "source": [
    "library(chemCal)\n",
    "library(inversePred)\n",
    "\n",
    "m <- lm(y ~ x, data = massart97ex1)\n",
    "result <- inverse.predict(m, 15)        #  6.1 +- 4.9\n",
    "inverse_prediction(m, 15, simulated_data,1)\n",
    "result$Prediction"
   ]
  },
  {
   "cell_type": "code",
   "execution_count": null,
   "metadata": {
    "vscode": {
     "languageId": "r"
    }
   },
   "outputs": [],
   "source": [
    "simulated_data <- simulated_single_variable_value(training_dataset, \"BDDE\", 1000 ,\"s\", seg = 0.1)\n",
    "simulated_data <- sim_multi_vars_value(training_dataset, c(\"BDDE\",\"Size\",\"Ratio\"), 100000, c(\"s\",\"int\",\"s\"))\n",
    "\n",
    "result_ <- inverse_prediction(rf_model_1, 477, simulated_data, return_number = 5)\n",
    "\n",
    "\n",
    "View(training_dataset)\n",
    "\n"
   ]
  }
 ],
 "metadata": {
  "kernelspec": {
   "display_name": "R",
   "language": "R",
   "name": "ir"
  },
  "language_info": {
   "codemirror_mode": "r",
   "file_extension": ".r",
   "mimetype": "text/x-r-source",
   "name": "R",
   "pygments_lexer": "r",
   "version": "4.2.2"
  },
  "orig_nbformat": 4
 },
 "nbformat": 4,
 "nbformat_minor": 2
}
